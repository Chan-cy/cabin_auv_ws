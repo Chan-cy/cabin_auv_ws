{
 "cells": [
  {
   "cell_type": "code",
   "execution_count": 6,
   "metadata": {},
   "outputs": [
    {
     "data": {
      "text/plain": [
       "-16.900000000000006"
      ]
     },
     "execution_count": 6,
     "metadata": {},
     "output_type": "execute_result"
    }
   ],
   "source": [
    "\n",
    "x = 10\n",
    "y = 0.0002*x**5 - 0.0056*x**4 - 0.101*x**3 + 5.5052*x**2 - 65.889*x + 228.47\n",
    "y"
   ]
  },
  {
   "cell_type": "code",
   "execution_count": 8,
   "metadata": {},
   "outputs": [
    {
     "data": {
      "text/plain": [
       "-2.0984999999999943"
      ]
     },
     "execution_count": 8,
     "metadata": {},
     "output_type": "execute_result"
    }
   ],
   "source": [
    "x = 1500\n",
    "y = 3E-10*x**3 + 6E-06*x**2 + 0.017*x - 42.111\n",
    "y"
   ]
  },
  {
   "cell_type": "code",
   "execution_count": 19,
   "metadata": {},
   "outputs": [
    {
     "data": {
      "text/plain": [
       "-0.7871874999999591"
      ]
     },
     "execution_count": 19,
     "metadata": {},
     "output_type": "execute_result"
    }
   ],
   "source": [
    "x =1500\n",
    "y = 1.923E-14*x**5 - 5.624E-11*x**4 - 1.01E-07*x**3 + 5.505E-04*x**2 - 6.589E-01*x + 2.285E+02\n",
    "y"
   ]
  },
  {
   "cell_type": "code",
   "execution_count": 21,
   "metadata": {},
   "outputs": [
    {
     "data": {
      "text/plain": [
       "-0.07995337986777784"
      ]
     },
     "execution_count": 21,
     "metadata": {},
     "output_type": "execute_result"
    }
   ],
   "source": [
    "c\n",
    "y = 1.92307668963362E-15*x**5 - 5.62354136076199E-12*x**4 -1.01019866025684E-08*x**3 + 5.50515811323964E-05*x**2 - 0.0658886885525989*x + 22.8470412117593\n",
    "y"
   ]
  },
  {
   "cell_type": "code",
   "execution_count": 29,
   "metadata": {},
   "outputs": [
    {
     "data": {
      "text/plain": [
       "-0.02634062499510037"
      ]
     },
     "execution_count": 29,
     "metadata": {},
     "output_type": "execute_result"
    }
   ],
   "source": [
    "x =1500\n",
    "y = -1.189542E-16*x**6+ 1.072511E-12*x**5-3.975451E-09*x**4+ 7.750041E-06*x**3-8.376251E-03*x**2+ 4.760320E+00*x -1.114027E+03\n",
    "y"
   ]
  },
  {
   "cell_type": "code",
   "execution_count": 28,
   "metadata": {},
   "outputs": [
    {
     "data": {
      "text/plain": [
       "-0.7995338094063129"
      ]
     },
     "execution_count": 28,
     "metadata": {},
     "output_type": "execute_result"
    }
   ],
   "source": [
    "x = 1500\n",
    "y = 1.9230769231E-14*x**5-5.6235431237E-11*x**4-1.0101981352E-07*x**3+ 5.5051573426E-04*x**2-6.5888682983E-01*x + 2.2847039627E+02\n",
    "y"
   ]
  },
  {
   "cell_type": "code",
   "execution_count": 30,
   "metadata": {},
   "outputs": [
    {
     "data": {
      "text/plain": [
       "-0.28045622030549566"
      ]
     },
     "execution_count": 30,
     "metadata": {},
     "output_type": "execute_result"
    }
   ],
   "source": [
    "x = 1500\n",
    "y = -1.1895424829E-15*x**6+ 1.0725113116E-11*x**5-3.9754512293E-08*x**4+ 7.7500406164E-05*x**3-8.3762514399E-02*x**2+ 4.7603198346E+01*x -1.1140268278E+04\n",
    "y"
   ]
  },
  {
   "cell_type": "code",
   "execution_count": 31,
   "metadata": {},
   "outputs": [
    {
     "data": {
      "text/plain": [
       "-0.07995286249999367"
      ]
     },
     "execution_count": 31,
     "metadata": {},
     "output_type": "execute_result"
    }
   ],
   "source": [
    "x = 1500\n",
    "y = 8.79953380E-12*x**4-5.27622378E-08*x**3+ 1.17215035E-04*x**2-1.10492657E-01*x + 3.54501166E+01\n",
    "y"
   ]
  },
  {
   "cell_type": "code",
   "execution_count": 32,
   "metadata": {},
   "outputs": [
    {
     "data": {
      "text/plain": [
       "-0.28045622030549566"
      ]
     },
     "execution_count": 32,
     "metadata": {},
     "output_type": "execute_result"
    }
   ],
   "source": [
    "x = 1500\n",
    "y = -1.1895424829E-15*x**6+ 1.0725113116E-11*x**5-3.9754512293E-08*x**4+ 7.7500406164E-05*x**3-8.3762514399E-02*x**2+ 4.7603198346E+01*x -1.1140268278E+04\n",
    "y"
   ]
  },
  {
   "cell_type": "code",
   "execution_count": 10,
   "metadata": {},
   "outputs": [
    {
     "data": {
      "text/plain": [
       "1999.76"
      ]
     },
     "execution_count": 10,
     "metadata": {},
     "output_type": "execute_result"
    }
   ],
   "source": [
    "x = 2\n",
    "y = 7.08E+00*x**6+ 3.17E+00*x**5-5.05E+01*x**4-1.48E+01*x**3+ 7.79E+01*x**2+ 2.75E+02*x + 1.51E+03\n",
    "y"
   ]
  },
  {
   "cell_type": "code",
   "execution_count": null,
   "metadata": {},
   "outputs": [],
   "source": []
  }
 ],
 "metadata": {
  "kernelspec": {
   "display_name": "data",
   "language": "python",
   "name": "python3"
  },
  "language_info": {
   "codemirror_mode": {
    "name": "ipython",
    "version": 3
   },
   "file_extension": ".py",
   "mimetype": "text/x-python",
   "name": "python",
   "nbconvert_exporter": "python",
   "pygments_lexer": "ipython3",
   "version": "3.10.13"
  }
 },
 "nbformat": 4,
 "nbformat_minor": 2
}
